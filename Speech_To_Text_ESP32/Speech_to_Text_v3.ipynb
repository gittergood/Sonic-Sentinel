{
 "cells": [
  {
   "cell_type": "code",
   "execution_count": null,
   "metadata": {},
   "outputs": [],
   "source": [
    "%pip install -U tensorflow tensorflow_datasets\n",
    "%pip install numpy\n",
    "%pip install matplotlib\n",
    "%pip install seaborn"
   ]
  },
  {
   "cell_type": "code",
   "execution_count": null,
   "metadata": {},
   "outputs": [],
   "source": [
    "%pip install SpeechRecognition"
   ]
  },
  {
   "cell_type": "code",
   "execution_count": null,
   "metadata": {},
   "outputs": [],
   "source": [
    "import os\n",
    "import pathlib\n",
    "\n",
    "import matplotlib.pyplot as plt\n",
    "import numpy as np\n",
    "import seaborn as sns\n",
    "import tensorflow as tf\n",
    "\n",
    "from tensorflow.keras import layers\n",
    "from tensorflow.keras import models\n",
    "from IPython import display\n",
    "\n",
    "# Set the seed value for experiment reproducibility.\n",
    "seed = 42\n",
    "tf.random.set_seed(seed)\n",
    "np.random.seed(seed)"
   ]
  },
  {
   "cell_type": "code",
   "execution_count": 2,
   "metadata": {},
   "outputs": [
    {
     "name": "stdout",
     "output_type": "stream",
     "text": [
      "Collecting pyaudio\n",
      "  Using cached PyAudio-0.2.14-cp312-cp312-win_amd64.whl.metadata (2.7 kB)\n",
      "Using cached PyAudio-0.2.14-cp312-cp312-win_amd64.whl (164 kB)\n",
      "Installing collected packages: pyaudio\n",
      "Successfully installed pyaudio-0.2.14\n",
      "Note: you may need to restart the kernel to use updated packages.\n"
     ]
    }
   ],
   "source": [
    "%pip install pyaudio"
   ]
  },
  {
   "cell_type": "code",
   "execution_count": 7,
   "metadata": {},
   "outputs": [
    {
     "name": "stdout",
     "output_type": "stream",
     "text": [
      "Speak something:\n",
      "Audio captured successfully!\n",
      "Recognized text: testing\n"
     ]
    }
   ],
   "source": [
    "import speech_recognition as sr\n",
    "\n",
    "def main():\n",
    "    # Initialize the recognizer\n",
    "    recognizer = sr.Recognizer()\n",
    "\n",
    "    # Capture audio from the microphone\n",
    "    with sr.Microphone() as source:\n",
    "        print(\"Speak something:\")\n",
    "        try:\n",
    "            audio = recognizer.listen(source, timeout=5)\n",
    "            print(\"Audio captured successfully!\")\n",
    "        except sr.WaitTimeoutError:\n",
    "            print(\"Timeout: No speech detected.\")\n",
    "            return\n",
    "\n",
    "    # Recognize speech using Google Web Speech API\n",
    "    try:\n",
    "        recognized_text = recognizer.recognize_google(audio)\n",
    "        print(f\"Recognized text: {recognized_text}\")\n",
    "    except sr.UnknownValueError:\n",
    "        print(\"Sorry, I couldn't understand what you said.\")\n",
    "    except sr.RequestError as e:\n",
    "        print(f\"Error connecting to Google Web Speech API: {e}\")\n",
    "\n",
    "if __name__ == \"__main__\":\n",
    "    main()\n"
   ]
  },
  {
   "cell_type": "code",
   "execution_count": 8,
   "metadata": {},
   "outputs": [
    {
     "name": "stdout",
     "output_type": "stream",
     "text": [
      "Speak something:\n",
      "Audio captured successfully!\n",
      "Recognized text: testing\n",
      "The word 'colloquial' was not detected.\n"
     ]
    }
   ],
   "source": [
    "import speech_recognition as sr\n",
    "\n",
    "def main():\n",
    "    # Initialize the recognizer\n",
    "    recognizer = sr.Recognizer()\n",
    "\n",
    "    # Initialize a variable to track whether \"colloquial\" was spoken\n",
    "    colloquial_spoken = 0\n",
    "\n",
    "    # Capture audio from the microphone\n",
    "    with sr.Microphone() as source:\n",
    "        print(\"Speak something:\")\n",
    "        try:\n",
    "            audio = recognizer.listen(source, timeout=5)\n",
    "            print(\"Audio captured successfully!\")\n",
    "        except sr.WaitTimeoutError:\n",
    "            print(\"Timeout: No speech detected.\")\n",
    "            return\n",
    "\n",
    "    # Recognize speech using Google Web Speech API\n",
    "    try:\n",
    "        recognized_text = recognizer.recognize_google(audio)\n",
    "        print(f\"Recognized text: {recognized_text}\")\n",
    "\n",
    "        # Check if \"colloquial\" is in the recognized text\n",
    "        if \"colloquial\" in recognized_text.lower():\n",
    "            colloquial_spoken = 1\n",
    "            print(\"The word 'colloquial' was spoken!\")\n",
    "        else:\n",
    "            print(\"The word 'colloquial' was not detected.\")\n",
    "    except sr.UnknownValueError:\n",
    "        print(\"Sorry, I couldn't understand what you said.\")\n",
    "    except sr.RequestError as e:\n",
    "        print(f\"Error connecting to Google Web Speech API: {e}\")\n",
    "\n",
    "    # Now you can use the value of colloquial_spoken in your program logic\n",
    "    if colloquial_spoken:\n",
    "        print(\"Perform some action based on 'colloquial' being spoken.\")\n",
    "\n",
    "if __name__ == \"__main__\":\n",
    "    main()\n"
   ]
  },
  {
   "cell_type": "code",
   "execution_count": 10,
   "metadata": {},
   "outputs": [
    {
     "name": "stdout",
     "output_type": "stream",
     "text": [
      "Collecting pydub\n",
      "  Downloading pydub-0.25.1-py2.py3-none-any.whl.metadata (1.4 kB)\n",
      "Downloading pydub-0.25.1-py2.py3-none-any.whl (32 kB)\n",
      "Installing collected packages: pydub\n",
      "Successfully installed pydub-0.25.1\n",
      "Note: you may need to restart the kernel to use updated packages.\n"
     ]
    }
   ],
   "source": [
    "%pip install pydub"
   ]
  },
  {
   "cell_type": "code",
   "execution_count": 6,
   "metadata": {},
   "outputs": [
    {
     "name": "stdout",
     "output_type": "stream",
     "text": [
      "Speak something:\n",
      "Audio captured successfully!\n",
      "Recognized text: symbolic\n",
      "No key words detected.\n"
     ]
    }
   ],
   "source": [
    "import speech_recognition as sr\n",
    "from pydub import AudioSegment\n",
    "from pydub.playback import play\n",
    "\n",
    "def main():\n",
    "    # Initialize the recognizer\n",
    "    recognizer = sr.Recognizer()\n",
    "\n",
    "    # Initialize a variable to track whether \"colloquial\" was spoken\n",
    "    colloquial_spoken = False\n",
    "    stuff_spoken = False\n",
    "\n",
    "    # Capture audio from the microphone\n",
    "    with sr.Microphone() as source:\n",
    "        print(\"Speak something:\")\n",
    "        try:\n",
    "            audio = recognizer.listen(source, timeout=5)\n",
    "            print(\"Audio captured successfully!\")\n",
    "        except sr.WaitTimeoutError:\n",
    "            print(\"Timeout: No speech detected.\")\n",
    "            return\n",
    "\n",
    "    # Recognize speech using Google Web Speech API\n",
    "    try:\n",
    "        recognized_text = recognizer.recognize_google(audio)\n",
    "        print(f\"Recognized text: {recognized_text}\")\n",
    "\n",
    "        # Check if \"colloquial\" is in the recognized text\n",
    "        if \"colloquial\" in recognized_text.lower():\n",
    "            colloquial_spoken = True\n",
    "            print(\"The word 'colloquial' was spoken!\")\n",
    "        elif \"stuff\" in recognized_text.lower():\n",
    "            stuff_spoken = True\n",
    "            print(\"The word 'stuff' was spoken!\")\n",
    "        else:\n",
    "            print(\"No key words detected.\")\n",
    "    except sr.UnknownValueError:\n",
    "        print(\"Sorry, I couldn't understand what you said.\")\n",
    "    except sr.RequestError as e:\n",
    "        print(f\"Error connecting to Google Web Speech API: {e}\")\n",
    "\n",
    "    # Play \"over here\" if \"colloquial\" was spoken\n",
    "    if colloquial_spoken:\n",
    "        over_here_audio = AudioSegment.from_wav(\"C:\\\\Users\\\\Kalen Akins\\\\AppData\\\\Local\\\\Programs\\\\Python\\\\Python312\\\\Lib\\\\site-packages\\\\pydub\\\\over_here.wav\")  # Replace with your audio file\n",
    "        play(over_here_audio)\n",
    "    elif stuff_spoken:\n",
    "        this_way_audio = AudioSegment.from_wav(\"C:\\\\Users\\\\Kalen Akins\\\\Downloads\\\\this_way.wav\")\n",
    "        play(this_way_audio)\n",
    "\n",
    "if __name__ == \"__main__\":\n",
    "    main()\n"
   ]
  },
  {
   "cell_type": "code",
   "execution_count": 10,
   "metadata": {},
   "outputs": [
    {
     "name": "stdout",
     "output_type": "stream",
     "text": [
      "Speak something:\n",
      "Audio captured successfully!\n",
      "Recognized text: symbolic\n",
      "The word 'symbolic' was spoken!\n"
     ]
    }
   ],
   "source": [
    "import speech_recognition as sr\n",
    "from pydub import AudioSegment\n",
    "from pydub.playback import play\n",
    "\n",
    "def main():\n",
    "    # Initialize the recognizer\n",
    "    recognizer = sr.Recognizer()\n",
    "\n",
    "    # Initialize a variable to track whether a key word was spoken\n",
    "    colloquial_spoken = False\n",
    "    symbolic_spoken = False\n",
    "\n",
    "    # Capture audio from the microphone\n",
    "    with sr.Microphone() as source:\n",
    "        print(\"Speak something:\")\n",
    "        try:\n",
    "            audio = recognizer.listen(source, timeout=5)\n",
    "            print(\"Audio captured successfully!\")\n",
    "        except sr.WaitTimeoutError:\n",
    "            print(\"Timeout: No speech detected.\")\n",
    "            return\n",
    "\n",
    "    # Recognize speech using Google Web Speech API\n",
    "    try:\n",
    "        recognized_text = recognizer.recognize_google(audio)\n",
    "        print(f\"Recognized text: {recognized_text}\")\n",
    "\n",
    "        # Check if key words are in the recognized text\n",
    "        if \"colloquial\" in recognized_text.lower():\n",
    "            colloquial_spoken = True\n",
    "            print(\"The word 'colloquial' was spoken!\")\n",
    "        elif \"symbolic\" in recognized_text.lower():\n",
    "            symbolic_spoken = True\n",
    "            print(\"The word 'symbolic' was spoken!\")\n",
    "        else:\n",
    "            print(\"No key words detected.\")\n",
    "    except sr.UnknownValueError:\n",
    "        print(\"Sorry, I couldn't understand what you said.\")\n",
    "    except sr.RequestError as e:\n",
    "        print(f\"Error connecting to Google Web Speech API: {e}\")\n",
    "\n",
    "    # Play specific audio if specific key words are spoken\n",
    "    if colloquial_spoken:\n",
    "        over_here_audio = AudioSegment.from_wav(\"C:\\\\Users\\\\Kalen Akins\\\\AppData\\\\Local\\\\Programs\\\\Python\\\\Python312\\\\Lib\\\\site-packages\\\\pydub\\\\over_here.wav\")  # Replace with your audio file\n",
    "        play(over_here_audio)\n",
    "    elif symbolic_spoken:\n",
    "        this_way_audio = AudioSegment.from_wav(\"C:\\\\Users\\\\Kalen Akins\\\\Downloads\\\\this_way.wav\")\n",
    "        play(this_way_audio)\n",
    "\n",
    "if __name__ == \"__main__\":\n",
    "    main()\n"
   ]
  }
 ],
 "metadata": {
  "kernelspec": {
   "display_name": "Python 3",
   "language": "python",
   "name": "python3"
  },
  "language_info": {
   "codemirror_mode": {
    "name": "ipython",
    "version": 3
   },
   "file_extension": ".py",
   "mimetype": "text/x-python",
   "name": "python",
   "nbconvert_exporter": "python",
   "pygments_lexer": "ipython3",
   "version": "3.12.2"
  }
 },
 "nbformat": 4,
 "nbformat_minor": 2
}
