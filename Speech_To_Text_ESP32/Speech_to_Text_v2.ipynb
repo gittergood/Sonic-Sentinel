{
 "cells": [
  {
   "cell_type": "code",
   "execution_count": null,
   "metadata": {},
   "outputs": [],
   "source": [
    "%pip install -U tensorflow tensorflow_datasets\n",
    "%pip install numpy\n",
    "%pip install matplotlib\n",
    "%pip install seaborn"
   ]
  },
  {
   "cell_type": "code",
   "execution_count": null,
   "metadata": {},
   "outputs": [],
   "source": [
    "%pip install SpeechRecognition"
   ]
  },
  {
   "cell_type": "code",
   "execution_count": null,
   "metadata": {},
   "outputs": [],
   "source": [
    "import os\n",
    "import pathlib\n",
    "\n",
    "import matplotlib.pyplot as plt\n",
    "import numpy as np\n",
    "import seaborn as sns\n",
    "import tensorflow as tf\n",
    "\n",
    "from tensorflow.keras import layers\n",
    "from tensorflow.keras import models\n",
    "from IPython import display\n",
    "\n",
    "# Set the seed value for experiment reproducibility.\n",
    "seed = 42\n",
    "tf.random.set_seed(seed)\n",
    "np.random.seed(seed)"
   ]
  },
  {
   "cell_type": "code",
   "execution_count": 2,
   "metadata": {},
   "outputs": [
    {
     "name": "stdout",
     "output_type": "stream",
     "text": [
      "Collecting pyaudio\n",
      "  Using cached PyAudio-0.2.14-cp312-cp312-win_amd64.whl.metadata (2.7 kB)\n",
      "Using cached PyAudio-0.2.14-cp312-cp312-win_amd64.whl (164 kB)\n",
      "Installing collected packages: pyaudio\n",
      "Successfully installed pyaudio-0.2.14\n",
      "Note: you may need to restart the kernel to use updated packages.\n"
     ]
    }
   ],
   "source": [
    "%pip install pyaudio"
   ]
  },
  {
   "cell_type": "code",
   "execution_count": 7,
   "metadata": {},
   "outputs": [
    {
     "name": "stdout",
     "output_type": "stream",
     "text": [
      "Speak something:\n",
      "Audio captured successfully!\n",
      "Recognized text: testing\n"
     ]
    }
   ],
   "source": [
    "import speech_recognition as sr\n",
    "\n",
    "def main():\n",
    "    # Initialize the recognizer\n",
    "    recognizer = sr.Recognizer()\n",
    "\n",
    "    # Capture audio from the microphone\n",
    "    with sr.Microphone() as source:\n",
    "        print(\"Speak something:\")\n",
    "        try:\n",
    "            audio = recognizer.listen(source, timeout=5)\n",
    "            print(\"Audio captured successfully!\")\n",
    "        except sr.WaitTimeoutError:\n",
    "            print(\"Timeout: No speech detected.\")\n",
    "            return\n",
    "\n",
    "    # Recognize speech using Google Web Speech API\n",
    "    try:\n",
    "        recognized_text = recognizer.recognize_google(audio)\n",
    "        print(f\"Recognized text: {recognized_text}\")\n",
    "    except sr.UnknownValueError:\n",
    "        print(\"Sorry, I couldn't understand what you said.\")\n",
    "    except sr.RequestError as e:\n",
    "        print(f\"Error connecting to Google Web Speech API: {e}\")\n",
    "\n",
    "if __name__ == \"__main__\":\n",
    "    main()\n"
   ]
  },
  {
   "cell_type": "code",
   "execution_count": 8,
   "metadata": {},
   "outputs": [
    {
     "name": "stdout",
     "output_type": "stream",
     "text": [
      "Speak something:\n",
      "Audio captured successfully!\n",
      "Recognized text: testing\n",
      "The word 'colloquial' was not detected.\n"
     ]
    }
   ],
   "source": [
    "import speech_recognition as sr\n",
    "\n",
    "def main():\n",
    "    # Initialize the recognizer\n",
    "    recognizer = sr.Recognizer()\n",
    "\n",
    "    # Initialize a variable to track whether \"colloquial\" was spoken\n",
    "    colloquial_spoken = 0\n",
    "\n",
    "    # Capture audio from the microphone\n",
    "    with sr.Microphone() as source:\n",
    "        print(\"Speak something:\")\n",
    "        try:\n",
    "            audio = recognizer.listen(source, timeout=5)\n",
    "            print(\"Audio captured successfully!\")\n",
    "        except sr.WaitTimeoutError:\n",
    "            print(\"Timeout: No speech detected.\")\n",
    "            return\n",
    "\n",
    "    # Recognize speech using Google Web Speech API\n",
    "    try:\n",
    "        recognized_text = recognizer.recognize_google(audio)\n",
    "        print(f\"Recognized text: {recognized_text}\")\n",
    "\n",
    "        # Check if \"colloquial\" is in the recognized text\n",
    "        if \"colloquial\" in recognized_text.lower():\n",
    "            colloquial_spoken = 1\n",
    "            print(\"The word 'colloquial' was spoken!\")\n",
    "        else:\n",
    "            print(\"The word 'colloquial' was not detected.\")\n",
    "    except sr.UnknownValueError:\n",
    "        print(\"Sorry, I couldn't understand what you said.\")\n",
    "    except sr.RequestError as e:\n",
    "        print(f\"Error connecting to Google Web Speech API: {e}\")\n",
    "\n",
    "    # Now you can use the value of colloquial_spoken in your program logic\n",
    "    if colloquial_spoken:\n",
    "        print(\"Perform some action based on 'colloquial' being spoken.\")\n",
    "\n",
    "if __name__ == \"__main__\":\n",
    "    main()\n"
   ]
  },
  {
   "cell_type": "code",
   "execution_count": 10,
   "metadata": {},
   "outputs": [
    {
     "name": "stdout",
     "output_type": "stream",
     "text": [
      "Collecting pydub\n",
      "  Downloading pydub-0.25.1-py2.py3-none-any.whl.metadata (1.4 kB)\n",
      "Downloading pydub-0.25.1-py2.py3-none-any.whl (32 kB)\n",
      "Installing collected packages: pydub\n",
      "Successfully installed pydub-0.25.1\n",
      "Note: you may need to restart the kernel to use updated packages.\n"
     ]
    }
   ],
   "source": [
    "%pip install pydub"
   ]
  },
  {
   "cell_type": "code",
   "execution_count": 6,
   "metadata": {},
   "outputs": [
    {
     "name": "stdout",
     "output_type": "stream",
     "text": [
      "Speak something:\n",
      "Audio captured successfully!\n",
      "Recognized text: colloquial\n",
      "The word 'colloquial' was spoken!\n"
     ]
    },
    {
     "ename": "FileNotFoundError",
     "evalue": "[Errno 2] No such file or directory: 'over_here.wav'",
     "output_type": "error",
     "traceback": [
      "\u001b[1;31m---------------------------------------------------------------------------\u001b[0m",
      "\u001b[1;31mFileNotFoundError\u001b[0m                         Traceback (most recent call last)",
      "Cell \u001b[1;32mIn[6], line 44\u001b[0m\n\u001b[0;32m     41\u001b[0m         play(over_here_audio)\n\u001b[0;32m     43\u001b[0m \u001b[38;5;28;01mif\u001b[39;00m \u001b[38;5;18m__name__\u001b[39m \u001b[38;5;241m==\u001b[39m \u001b[38;5;124m\"\u001b[39m\u001b[38;5;124m__main__\u001b[39m\u001b[38;5;124m\"\u001b[39m:\n\u001b[1;32m---> 44\u001b[0m     \u001b[43mmain\u001b[49m\u001b[43m(\u001b[49m\u001b[43m)\u001b[49m\n",
      "Cell \u001b[1;32mIn[6], line 40\u001b[0m, in \u001b[0;36mmain\u001b[1;34m()\u001b[0m\n\u001b[0;32m     38\u001b[0m \u001b[38;5;66;03m# Play \"here\" if \"colloquial\" was spoken\u001b[39;00m\n\u001b[0;32m     39\u001b[0m \u001b[38;5;28;01mif\u001b[39;00m colloquial_spoken:\n\u001b[1;32m---> 40\u001b[0m     over_here_audio \u001b[38;5;241m=\u001b[39m \u001b[43mAudioSegment\u001b[49m\u001b[38;5;241;43m.\u001b[39;49m\u001b[43mfrom_wav\u001b[49m\u001b[43m(\u001b[49m\u001b[38;5;124;43m\"\u001b[39;49m\u001b[38;5;124;43mover_here.wav\u001b[39;49m\u001b[38;5;124;43m\"\u001b[39;49m\u001b[43m)\u001b[49m  \u001b[38;5;66;03m# Replace with your audio file\u001b[39;00m\n\u001b[0;32m     41\u001b[0m     play(over_here_audio)\n",
      "File \u001b[1;32mc:\\Users\\Kalen Akins\\AppData\\Local\\Programs\\Python\\Python312\\Lib\\site-packages\\pydub\\audio_segment.py:808\u001b[0m, in \u001b[0;36mAudioSegment.from_wav\u001b[1;34m(cls, file, parameters)\u001b[0m\n\u001b[0;32m    806\u001b[0m \u001b[38;5;129m@classmethod\u001b[39m\n\u001b[0;32m    807\u001b[0m \u001b[38;5;28;01mdef\u001b[39;00m \u001b[38;5;21mfrom_wav\u001b[39m(\u001b[38;5;28mcls\u001b[39m, file, parameters\u001b[38;5;241m=\u001b[39m\u001b[38;5;28;01mNone\u001b[39;00m):\n\u001b[1;32m--> 808\u001b[0m     \u001b[38;5;28;01mreturn\u001b[39;00m \u001b[38;5;28;43mcls\u001b[39;49m\u001b[38;5;241;43m.\u001b[39;49m\u001b[43mfrom_file\u001b[49m\u001b[43m(\u001b[49m\u001b[43mfile\u001b[49m\u001b[43m,\u001b[49m\u001b[43m \u001b[49m\u001b[38;5;124;43m'\u001b[39;49m\u001b[38;5;124;43mwav\u001b[39;49m\u001b[38;5;124;43m'\u001b[39;49m\u001b[43m,\u001b[49m\u001b[43m \u001b[49m\u001b[43mparameters\u001b[49m\u001b[38;5;241;43m=\u001b[39;49m\u001b[43mparameters\u001b[49m\u001b[43m)\u001b[49m\n",
      "File \u001b[1;32mc:\\Users\\Kalen Akins\\AppData\\Local\\Programs\\Python\\Python312\\Lib\\site-packages\\pydub\\audio_segment.py:651\u001b[0m, in \u001b[0;36mAudioSegment.from_file\u001b[1;34m(cls, file, format, codec, parameters, start_second, duration, **kwargs)\u001b[0m\n\u001b[0;32m    649\u001b[0m \u001b[38;5;28;01mexcept\u001b[39;00m \u001b[38;5;167;01mTypeError\u001b[39;00m:\n\u001b[0;32m    650\u001b[0m     filename \u001b[38;5;241m=\u001b[39m \u001b[38;5;28;01mNone\u001b[39;00m\n\u001b[1;32m--> 651\u001b[0m file, close_file \u001b[38;5;241m=\u001b[39m \u001b[43m_fd_or_path_or_tempfile\u001b[49m\u001b[43m(\u001b[49m\u001b[43mfile\u001b[49m\u001b[43m,\u001b[49m\u001b[43m \u001b[49m\u001b[38;5;124;43m'\u001b[39;49m\u001b[38;5;124;43mrb\u001b[39;49m\u001b[38;5;124;43m'\u001b[39;49m\u001b[43m,\u001b[49m\u001b[43m \u001b[49m\u001b[43mtempfile\u001b[49m\u001b[38;5;241;43m=\u001b[39;49m\u001b[38;5;28;43;01mFalse\u001b[39;49;00m\u001b[43m)\u001b[49m\n\u001b[0;32m    653\u001b[0m \u001b[38;5;28;01mif\u001b[39;00m \u001b[38;5;28mformat\u001b[39m:\n\u001b[0;32m    654\u001b[0m     \u001b[38;5;28mformat\u001b[39m \u001b[38;5;241m=\u001b[39m \u001b[38;5;28mformat\u001b[39m\u001b[38;5;241m.\u001b[39mlower()\n",
      "File \u001b[1;32mc:\\Users\\Kalen Akins\\AppData\\Local\\Programs\\Python\\Python312\\Lib\\site-packages\\pydub\\utils.py:60\u001b[0m, in \u001b[0;36m_fd_or_path_or_tempfile\u001b[1;34m(fd, mode, tempfile)\u001b[0m\n\u001b[0;32m     57\u001b[0m     close_fd \u001b[38;5;241m=\u001b[39m \u001b[38;5;28;01mTrue\u001b[39;00m\n\u001b[0;32m     59\u001b[0m \u001b[38;5;28;01mif\u001b[39;00m \u001b[38;5;28misinstance\u001b[39m(fd, basestring):\n\u001b[1;32m---> 60\u001b[0m     fd \u001b[38;5;241m=\u001b[39m \u001b[38;5;28;43mopen\u001b[39;49m\u001b[43m(\u001b[49m\u001b[43mfd\u001b[49m\u001b[43m,\u001b[49m\u001b[43m \u001b[49m\u001b[43mmode\u001b[49m\u001b[38;5;241;43m=\u001b[39;49m\u001b[43mmode\u001b[49m\u001b[43m)\u001b[49m\n\u001b[0;32m     61\u001b[0m     close_fd \u001b[38;5;241m=\u001b[39m \u001b[38;5;28;01mTrue\u001b[39;00m\n\u001b[0;32m     63\u001b[0m \u001b[38;5;28;01mtry\u001b[39;00m:\n",
      "\u001b[1;31mFileNotFoundError\u001b[0m: [Errno 2] No such file or directory: 'over_here.wav'"
     ]
    }
   ],
   "source": [
    "import speech_recognition as sr\n",
    "from pydub import AudioSegment\n",
    "from pydub.playback import play\n",
    "\n",
    "def main():\n",
    "    # Initialize the recognizer\n",
    "    recognizer = sr.Recognizer()\n",
    "\n",
    "    # Initialize a variable to track whether \"colloquial\" was spoken\n",
    "    colloquial_spoken = False\n",
    "\n",
    "    # Capture audio from the microphone\n",
    "    with sr.Microphone() as source:\n",
    "        print(\"Speak something:\")\n",
    "        try:\n",
    "            audio = recognizer.listen(source, timeout=5)\n",
    "            print(\"Audio captured successfully!\")\n",
    "        except sr.WaitTimeoutError:\n",
    "            print(\"Timeout: No speech detected.\")\n",
    "            return\n",
    "\n",
    "    # Recognize speech using Google Web Speech API\n",
    "    try:\n",
    "        recognized_text = recognizer.recognize_google(audio)\n",
    "        print(f\"Recognized text: {recognized_text}\")\n",
    "\n",
    "        # Check if \"colloquial\" is in the recognized text\n",
    "        if \"colloquial\" in recognized_text.lower():\n",
    "            colloquial_spoken = True\n",
    "            print(\"The word 'colloquial' was spoken!\")\n",
    "        else:\n",
    "            print(\"The word 'colloquial' was not detected.\")\n",
    "    except sr.UnknownValueError:\n",
    "        print(\"Sorry, I couldn't understand what you said.\")\n",
    "    except sr.RequestError as e:\n",
    "        print(f\"Error connecting to Google Web Speech API: {e}\")\n",
    "\n",
    "    # Play \"here\" if \"colloquial\" was spoken\n",
    "    if colloquial_spoken:\n",
    "        over_here_audio = AudioSegment.from_wav(\"over_here.wav\")  # Replace with your audio file\n",
    "        play(over_here_audio)\n",
    "\n",
    "if __name__ == \"__main__\":\n",
    "    main()\n"
   ]
  }
 ],
 "metadata": {
  "kernelspec": {
   "display_name": "Python 3",
   "language": "python",
   "name": "python3"
  },
  "language_info": {
   "codemirror_mode": {
    "name": "ipython",
    "version": 3
   },
   "file_extension": ".py",
   "mimetype": "text/x-python",
   "name": "python",
   "nbconvert_exporter": "python",
   "pygments_lexer": "ipython3",
   "version": "3.12.2"
  }
 },
 "nbformat": 4,
 "nbformat_minor": 2
}
